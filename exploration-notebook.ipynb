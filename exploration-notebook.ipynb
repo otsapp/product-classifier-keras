{
 "cells": [
  {
   "cell_type": "markdown",
   "metadata": {},
   "source": [
    "# Product Classification with Keras\n",
    "\n",
    "A brief exploration into the performance of an artificial neural net with keras on the Otto Group dataset. \n",
    "\n",
    "Dataset: Otto product classification (https://www.kaggle.com/c/otto-group-product-classification-challenge)\n",
    "- 9 product categories.\n",
    "- Counts of 93 anonymous events.\n",
    "- Almost 62,000 products.\n",
    "\n",
    "\n",
    "Approach:\n",
    "1. A bit of data prep.\n",
    "2. Build and fit network.\n",
    "3. Evaluate with Kfold cross-validation.\n",
    "\n",
    "Performance:\n",
    "- =<78% accuracy.\n",
    "- A large amount of overfitting, possibly from 'relu' activation function, number of nodes or data."
   ]
  },
  {
   "cell_type": "code",
   "execution_count": 1,
   "metadata": {},
   "outputs": [
    {
     "data": {
      "text/plain": [
       "(61878, 95)"
      ]
     },
     "execution_count": 1,
     "metadata": {},
     "output_type": "execute_result"
    }
   ],
   "source": [
    "import numpy as np\n",
    "import pandas as pd\n",
    "\n",
    "df = pd.read_csv('data/train.csv')\n",
    "df.shape"
   ]
  },
  {
   "cell_type": "markdown",
   "metadata": {},
   "source": [
    "First up, preparing the dataset for model fitting.\n",
    "\n",
    "1. One-hot encoded classes.\n",
    "2. Build and split features (X) and target (y).\n",
    "3. Scale features, incase there's a potential bias there."
   ]
  },
  {
   "cell_type": "code",
   "execution_count": 2,
   "metadata": {},
   "outputs": [
    {
     "data": {
      "text/plain": [
       "array(['Class_1', 'Class_2', 'Class_3', 'Class_4', 'Class_5', 'Class_6',\n",
       "       'Class_7', 'Class_8', 'Class_9'], dtype=object)"
      ]
     },
     "execution_count": 2,
     "metadata": {},
     "output_type": "execute_result"
    }
   ],
   "source": [
    "df.target.unique()"
   ]
  },
  {
   "cell_type": "code",
   "execution_count": 3,
   "metadata": {},
   "outputs": [
    {
     "data": {
      "text/plain": [
       "array([0, 1, 2, 3, 4, 5, 6, 7, 8], dtype=int64)"
      ]
     },
     "execution_count": 3,
     "metadata": {},
     "output_type": "execute_result"
    }
   ],
   "source": [
    "# it's easy enough to encode the classes without an extra module\n",
    "df['target'] = [x[-1] for x in df['target']]\n",
    "df['target'] = df['target'].astype(int) - 1\n",
    "df.target.unique()"
   ]
  },
  {
   "cell_type": "code",
   "execution_count": 4,
   "metadata": {},
   "outputs": [],
   "source": [
    "# slice features and classes from df\n",
    "X = df.iloc[:, 1:94].values.astype(float)\n",
    "y = df.iloc[:, 94].values.astype(float)"
   ]
  },
  {
   "cell_type": "code",
   "execution_count": 5,
   "metadata": {},
   "outputs": [],
   "source": [
    "from sklearn.model_selection import train_test_split\n",
    "\n",
    "# split X and y\n",
    "X_train, X_test, y_train, y_test = train_test_split(X, y, test_size = 0.2, random_state = 0)"
   ]
  },
  {
   "cell_type": "code",
   "execution_count": 6,
   "metadata": {},
   "outputs": [],
   "source": [
    "from sklearn.preprocessing import StandardScaler\n",
    "\n",
    "# scale features\n",
    "sc = StandardScaler()\n",
    "X = sc.fit_transform(X)\n",
    "X_train = sc.fit_transform(X_train)\n",
    "X_test = sc.fit_transform(X_test)"
   ]
  },
  {
   "cell_type": "markdown",
   "metadata": {},
   "source": [
    "Next, build out a pretty basic artificial neural net. \n",
    "\n",
    "- 8 hidden layers with a decent number of nodes to help spot potentially complex patterns in the events data.\n",
    "- 'rmsprop' works pretty well as an alternative to adam gradient decent.\n",
    "- Using the sparse version of crossentropy means we don't have to encode the classes."
   ]
  },
  {
   "cell_type": "code",
   "execution_count": 7,
   "metadata": {},
   "outputs": [
    {
     "name": "stderr",
     "output_type": "stream",
     "text": [
      "C:\\Users\\Oliver\\Anaconda3\\lib\\site-packages\\h5py\\__init__.py:36: FutureWarning: Conversion of the second argument of issubdtype from `float` to `np.floating` is deprecated. In future, it will be treated as `np.float64 == np.dtype(float).type`.\n",
      "  from ._conv import register_converters as _register_converters\n",
      "Using TensorFlow backend.\n"
     ]
    }
   ],
   "source": [
    "import keras\n",
    "from keras.models import Sequential\n",
    "from keras.layers import Dense\n",
    "\n",
    "def classifier():\n",
    "    # initialising the ANN\n",
    "    classifier = Sequential()\n",
    "    # input and hidden layers\n",
    "    classifier.add(Dense(units = 200, kernel_initializer = 'uniform', activation = 'relu', input_dim = 93))\n",
    "    classifier.add(Dense(units = 175, kernel_initializer = 'uniform', activation = 'relu'))\n",
    "    classifier.add(Dense(units = 150, kernel_initializer = 'uniform', activation = 'relu'))\n",
    "    classifier.add(Dense(units = 125, kernel_initializer = 'uniform', activation = 'relu'))\n",
    "    classifier.add(Dense(units = 100, kernel_initializer = 'uniform', activation = 'relu'))\n",
    "    classifier.add(Dense(units = 75, kernel_initializer = 'uniform', activation = 'relu'))\n",
    "    classifier.add(Dense(units = 50, kernel_initializer = 'uniform', activation = 'relu'))\n",
    "    classifier.add(Dense(units = 25, kernel_initializer = 'uniform', activation = 'relu'))\n",
    "    # output layer\n",
    "    classifier.add(Dense(units = 9, kernel_initializer = 'uniform', activation = 'softmax'))\n",
    "    # compile network\n",
    "    classifier.compile(optimizer = 'rmsprop', loss = 'sparse_categorical_crossentropy', metrics = ['accuracy'])\n",
    "    return classifier"
   ]
  },
  {
   "cell_type": "markdown",
   "metadata": {},
   "source": [
    "Let's fit with validation included so we can evaluate performance right away, and decent batch size should help it move along reasonably swiftly."
   ]
  },
  {
   "cell_type": "code",
   "execution_count": 8,
   "metadata": {},
   "outputs": [
    {
     "name": "stdout",
     "output_type": "stream",
     "text": [
      "Train on 49502 samples, validate on 12376 samples\n",
      "Epoch 1/100\n",
      "49502/49502 [==============================] - 2s 44us/step - loss: 1.7637 - acc: 0.2304 - val_loss: 1.6239 - val_acc: 0.2263\n",
      "Epoch 2/100\n",
      "49502/49502 [==============================] - 2s 35us/step - loss: 1.5382 - acc: 0.3212 - val_loss: 1.4543 - val_acc: 0.3467\n",
      "Epoch 3/100\n",
      "49502/49502 [==============================] - 2s 34us/step - loss: 1.3214 - acc: 0.4672 - val_loss: 1.1546 - val_acc: 0.5473\n",
      "Epoch 4/100\n",
      "49502/49502 [==============================] - 2s 34us/step - loss: 1.0755 - acc: 0.6128 - val_loss: 0.9275 - val_acc: 0.6590\n",
      "Epoch 5/100\n",
      "49502/49502 [==============================] - 2s 33us/step - loss: 1.0124 - acc: 0.6280 - val_loss: 0.9343 - val_acc: 0.6698\n",
      "Epoch 6/100\n",
      "49502/49502 [==============================] - 2s 32us/step - loss: 0.9400 - acc: 0.6723 - val_loss: 0.8533 - val_acc: 0.7106\n",
      "Epoch 7/100\n",
      "49502/49502 [==============================] - 2s 34us/step - loss: 0.8939 - acc: 0.6887 - val_loss: 0.9480 - val_acc: 0.6702\n",
      "Epoch 8/100\n",
      "49502/49502 [==============================] - 2s 34us/step - loss: 0.8571 - acc: 0.6956 - val_loss: 0.8303 - val_acc: 0.7159\n",
      "Epoch 9/100\n",
      "49502/49502 [==============================] - 2s 33us/step - loss: 0.9089 - acc: 0.6858 - val_loss: 0.8314 - val_acc: 0.7139\n",
      "Epoch 10/100\n",
      "49502/49502 [==============================] - 2s 33us/step - loss: 0.8403 - acc: 0.7022 - val_loss: 0.7650 - val_acc: 0.7195\n",
      "Epoch 11/100\n",
      "49502/49502 [==============================] - 2s 33us/step - loss: 0.8162 - acc: 0.7085 - val_loss: 0.7504 - val_acc: 0.7263\n",
      "Epoch 12/100\n",
      "49502/49502 [==============================] - 2s 34us/step - loss: 0.7907 - acc: 0.7073 - val_loss: 0.7492 - val_acc: 0.7271\n",
      "Epoch 13/100\n",
      "49502/49502 [==============================] - 2s 34us/step - loss: 0.8057 - acc: 0.7085 - val_loss: 0.7886 - val_acc: 0.7153\n",
      "Epoch 14/100\n",
      "49502/49502 [==============================] - 2s 34us/step - loss: 0.6968 - acc: 0.7309 - val_loss: 4.1695 - val_acc: 0.3091\n",
      "Epoch 15/100\n",
      "49502/49502 [==============================] - 2s 33us/step - loss: 0.7542 - acc: 0.7206 - val_loss: 0.8227 - val_acc: 0.7094\n",
      "Epoch 16/100\n",
      "49502/49502 [==============================] - 2s 34us/step - loss: 0.7597 - acc: 0.7125 - val_loss: 0.7290 - val_acc: 0.7339\n",
      "Epoch 17/100\n",
      "49502/49502 [==============================] - 2s 34us/step - loss: 0.7074 - acc: 0.7239 - val_loss: 0.8021 - val_acc: 0.6067\n",
      "Epoch 18/100\n",
      "49502/49502 [==============================] - 2s 33us/step - loss: 0.7623 - acc: 0.7116 - val_loss: 0.7303 - val_acc: 0.7314\n",
      "Epoch 19/100\n",
      "49502/49502 [==============================] - 2s 34us/step - loss: 0.6428 - acc: 0.7436 - val_loss: 0.8987 - val_acc: 0.6765\n",
      "Epoch 20/100\n",
      "49502/49502 [==============================] - 2s 34us/step - loss: 0.6920 - acc: 0.7264 - val_loss: 0.7087 - val_acc: 0.7373\n",
      "Epoch 21/100\n",
      "49502/49502 [==============================] - 2s 34us/step - loss: 0.6482 - acc: 0.7409 - val_loss: 0.7102 - val_acc: 0.7356\n",
      "Epoch 22/100\n",
      "49502/49502 [==============================] - 2s 33us/step - loss: 0.6538 - acc: 0.7383 - val_loss: 0.7168 - val_acc: 0.7376\n",
      "Epoch 23/100\n",
      "49502/49502 [==============================] - 2s 33us/step - loss: 0.6600 - acc: 0.7396 - val_loss: 0.7085 - val_acc: 0.7431\n",
      "Epoch 24/100\n",
      "49502/49502 [==============================] - 2s 34us/step - loss: 0.6411 - acc: 0.7405 - val_loss: 0.6973 - val_acc: 0.7421\n",
      "Epoch 25/100\n",
      "49502/49502 [==============================] - 2s 34us/step - loss: 0.6165 - acc: 0.7443 - val_loss: 0.7406 - val_acc: 0.6999\n",
      "Epoch 26/100\n",
      "49502/49502 [==============================] - 2s 34us/step - loss: 0.6293 - acc: 0.7426 - val_loss: 0.7096 - val_acc: 0.7393\n",
      "Epoch 27/100\n",
      "49502/49502 [==============================] - 2s 34us/step - loss: 0.5941 - acc: 0.7565 - val_loss: 0.7316 - val_acc: 0.7176\n",
      "Epoch 28/100\n",
      "49502/49502 [==============================] - 2s 34us/step - loss: 0.6320 - acc: 0.7498 - val_loss: 0.6932 - val_acc: 0.7466\n",
      "Epoch 29/100\n",
      "49502/49502 [==============================] - 2s 34us/step - loss: 0.5868 - acc: 0.7576 - val_loss: 0.7603 - val_acc: 0.7138\n",
      "Epoch 30/100\n",
      "49502/49502 [==============================] - 2s 34us/step - loss: 0.5925 - acc: 0.7566 - val_loss: 0.6966 - val_acc: 0.7466\n",
      "Epoch 31/100\n",
      "49502/49502 [==============================] - 2s 34us/step - loss: 0.5787 - acc: 0.7635 - val_loss: 0.6934 - val_acc: 0.7384\n",
      "Epoch 32/100\n",
      "49502/49502 [==============================] - 2s 34us/step - loss: 0.5648 - acc: 0.7670 - val_loss: 0.7162 - val_acc: 0.7489\n",
      "Epoch 33/100\n",
      "49502/49502 [==============================] - 2s 34us/step - loss: 0.5681 - acc: 0.7658 - val_loss: 0.7017 - val_acc: 0.7494\n",
      "Epoch 34/100\n",
      "49502/49502 [==============================] - 2s 33us/step - loss: 0.5802 - acc: 0.7667 - val_loss: 0.6988 - val_acc: 0.7542\n",
      "Epoch 35/100\n",
      "49502/49502 [==============================] - 2s 34us/step - loss: 0.5318 - acc: 0.7833 - val_loss: 0.7175 - val_acc: 0.7467\n",
      "Epoch 36/100\n",
      "49502/49502 [==============================] - 2s 33us/step - loss: 0.5444 - acc: 0.7796 - val_loss: 0.6885 - val_acc: 0.7595\n",
      "Epoch 37/100\n",
      "49502/49502 [==============================] - 2s 33us/step - loss: 0.5381 - acc: 0.7802 - val_loss: 0.7040 - val_acc: 0.7499\n",
      "Epoch 38/100\n",
      "49502/49502 [==============================] - 2s 33us/step - loss: 0.5302 - acc: 0.7864 - val_loss: 0.7493 - val_acc: 0.7502\n",
      "Epoch 39/100\n",
      "49502/49502 [==============================] - 2s 33us/step - loss: 0.5236 - acc: 0.7870 - val_loss: 0.7139 - val_acc: 0.7506\n",
      "Epoch 40/100\n",
      "49502/49502 [==============================] - 2s 33us/step - loss: 0.5178 - acc: 0.7897 - val_loss: 0.7746 - val_acc: 0.7210\n",
      "Epoch 41/100\n",
      "49502/49502 [==============================] - 2s 32us/step - loss: 0.5100 - acc: 0.7961 - val_loss: 0.8240 - val_acc: 0.7439\n",
      "Epoch 42/100\n",
      "49502/49502 [==============================] - 2s 32us/step - loss: 0.5066 - acc: 0.7963 - val_loss: 0.7187 - val_acc: 0.7594\n",
      "Epoch 43/100\n",
      "49502/49502 [==============================] - 2s 33us/step - loss: 0.5002 - acc: 0.7976 - val_loss: 0.8358 - val_acc: 0.6861\n",
      "Epoch 44/100\n",
      "49502/49502 [==============================] - 2s 33us/step - loss: 0.4913 - acc: 0.8003 - val_loss: 0.7174 - val_acc: 0.7560\n",
      "Epoch 45/100\n",
      "49502/49502 [==============================] - 2s 32us/step - loss: 0.4888 - acc: 0.8012 - val_loss: 0.7389 - val_acc: 0.7373\n",
      "Epoch 46/100\n",
      "49502/49502 [==============================] - 2s 32us/step - loss: 0.4810 - acc: 0.8060 - val_loss: 0.7932 - val_acc: 0.7506\n",
      "Epoch 47/100\n",
      "49502/49502 [==============================] - 2s 33us/step - loss: 0.4751 - acc: 0.8099 - val_loss: 0.7215 - val_acc: 0.7667\n",
      "Epoch 48/100\n",
      "49502/49502 [==============================] - 2s 33us/step - loss: 0.4650 - acc: 0.8152 - val_loss: 0.7880 - val_acc: 0.7590\n",
      "Epoch 49/100\n",
      "49502/49502 [==============================] - 2s 33us/step - loss: 0.4612 - acc: 0.8141 - val_loss: 0.8869 - val_acc: 0.7513\n",
      "Epoch 50/100\n",
      "49502/49502 [==============================] - 2s 32us/step - loss: 0.4597 - acc: 0.8181 - val_loss: 0.7527 - val_acc: 0.7732\n",
      "Epoch 51/100\n",
      "49502/49502 [==============================] - 2s 32us/step - loss: 0.4490 - acc: 0.8210 - val_loss: 0.7177 - val_acc: 0.7699\n",
      "Epoch 52/100\n",
      "49502/49502 [==============================] - 2s 32us/step - loss: 0.4468 - acc: 0.8210 - val_loss: 0.7863 - val_acc: 0.7599\n",
      "Epoch 53/100\n",
      "49502/49502 [==============================] - 2s 32us/step - loss: 0.4440 - acc: 0.8241 - val_loss: 0.7202 - val_acc: 0.7666\n",
      "Epoch 54/100\n",
      "49502/49502 [==============================] - 2s 32us/step - loss: 0.4352 - acc: 0.8252 - val_loss: 0.8463 - val_acc: 0.7477\n",
      "Epoch 55/100\n",
      "49502/49502 [==============================] - 2s 32us/step - loss: 0.4298 - acc: 0.8286 - val_loss: 0.7564 - val_acc: 0.7535\n",
      "Epoch 56/100\n",
      "49502/49502 [==============================] - 2s 32us/step - loss: 0.4264 - acc: 0.8322 - val_loss: 0.7536 - val_acc: 0.7605\n",
      "Epoch 57/100\n",
      "49502/49502 [==============================] - 2s 33us/step - loss: 0.4197 - acc: 0.8349 - val_loss: 0.7332 - val_acc: 0.7801\n",
      "Epoch 58/100\n",
      "49502/49502 [==============================] - 2s 32us/step - loss: 0.4160 - acc: 0.8350 - val_loss: 0.8135 - val_acc: 0.7679\n",
      "Epoch 59/100\n",
      "49502/49502 [==============================] - 2s 33us/step - loss: 0.4202 - acc: 0.8367 - val_loss: 0.7835 - val_acc: 0.7760\n",
      "Epoch 60/100\n",
      "49502/49502 [==============================] - 2s 33us/step - loss: 0.4010 - acc: 0.8432 - val_loss: 0.7834 - val_acc: 0.7792\n",
      "Epoch 61/100\n",
      "49502/49502 [==============================] - 2s 33us/step - loss: 0.4003 - acc: 0.8430 - val_loss: 0.7958 - val_acc: 0.7705\n",
      "Epoch 62/100\n",
      "49502/49502 [==============================] - 2s 33us/step - loss: 0.3971 - acc: 0.8466 - val_loss: 0.7830 - val_acc: 0.7739\n",
      "Epoch 63/100\n",
      "49502/49502 [==============================] - 2s 33us/step - loss: 0.3941 - acc: 0.8442 - val_loss: 0.7889 - val_acc: 0.7755\n",
      "Epoch 64/100\n",
      "49502/49502 [==============================] - 2s 33us/step - loss: 0.3897 - acc: 0.8453 - val_loss: 0.8304 - val_acc: 0.7797\n",
      "Epoch 65/100\n",
      "49502/49502 [==============================] - 2s 33us/step - loss: 0.3864 - acc: 0.8505 - val_loss: 0.8168 - val_acc: 0.7830\n",
      "Epoch 66/100\n",
      "49502/49502 [==============================] - 2s 33us/step - loss: 0.3790 - acc: 0.8512 - val_loss: 0.8237 - val_acc: 0.7529\n",
      "Epoch 67/100\n",
      "49502/49502 [==============================] - 2s 33us/step - loss: 0.3814 - acc: 0.8515 - val_loss: 0.7968 - val_acc: 0.7809\n",
      "Epoch 68/100\n",
      "49502/49502 [==============================] - 2s 34us/step - loss: 0.3801 - acc: 0.8511 - val_loss: 0.7811 - val_acc: 0.7705\n",
      "Epoch 69/100\n",
      "49502/49502 [==============================] - 2s 33us/step - loss: 0.3675 - acc: 0.8585 - val_loss: 0.8203 - val_acc: 0.7550\n",
      "Epoch 70/100\n",
      "49502/49502 [==============================] - 2s 33us/step - loss: 0.3680 - acc: 0.8570 - val_loss: 0.8337 - val_acc: 0.7787\n",
      "Epoch 71/100\n",
      "49502/49502 [==============================] - 2s 33us/step - loss: 0.3584 - acc: 0.8599 - val_loss: 0.8954 - val_acc: 0.7603\n",
      "Epoch 72/100\n",
      "49502/49502 [==============================] - 2s 33us/step - loss: 0.3625 - acc: 0.8597 - val_loss: 0.9497 - val_acc: 0.7548\n",
      "Epoch 73/100\n",
      "49502/49502 [==============================] - 2s 33us/step - loss: 0.3549 - acc: 0.8635 - val_loss: 0.8070 - val_acc: 0.7794\n",
      "Epoch 74/100\n",
      "49502/49502 [==============================] - 2s 33us/step - loss: 0.3508 - acc: 0.8646 - val_loss: 0.7973 - val_acc: 0.7595\n",
      "Epoch 75/100\n",
      "49502/49502 [==============================] - 2s 33us/step - loss: 0.3479 - acc: 0.8650 - val_loss: 0.8531 - val_acc: 0.7849\n",
      "Epoch 76/100\n",
      "49502/49502 [==============================] - 2s 33us/step - loss: 0.3407 - acc: 0.8685 - val_loss: 0.8766 - val_acc: 0.7825\n",
      "Epoch 77/100\n",
      "49502/49502 [==============================] - 2s 33us/step - loss: 0.3431 - acc: 0.8676 - val_loss: 0.8152 - val_acc: 0.7839\n",
      "Epoch 78/100\n",
      "49502/49502 [==============================] - 2s 33us/step - loss: 0.3283 - acc: 0.8724 - val_loss: 0.8778 - val_acc: 0.7856\n",
      "Epoch 79/100\n",
      "49502/49502 [==============================] - 2s 33us/step - loss: 0.3378 - acc: 0.8684 - val_loss: 0.8824 - val_acc: 0.7652\n",
      "Epoch 80/100\n",
      "49502/49502 [==============================] - 2s 34us/step - loss: 0.3391 - acc: 0.8712 - val_loss: 0.8523 - val_acc: 0.7818\n",
      "Epoch 81/100\n",
      "49502/49502 [==============================] - 2s 33us/step - loss: 0.3247 - acc: 0.8737 - val_loss: 0.8278 - val_acc: 0.7652\n",
      "Epoch 82/100\n",
      "49502/49502 [==============================] - 2s 33us/step - loss: 0.3230 - acc: 0.8761 - val_loss: 0.8951 - val_acc: 0.7832\n",
      "Epoch 83/100\n",
      "49502/49502 [==============================] - 2s 33us/step - loss: 0.3160 - acc: 0.8767 - val_loss: 0.7906 - val_acc: 0.7775\n",
      "Epoch 84/100\n",
      "49502/49502 [==============================] - 2s 33us/step - loss: 0.3186 - acc: 0.8780 - val_loss: 0.8182 - val_acc: 0.7847\n",
      "Epoch 85/100\n",
      "49502/49502 [==============================] - 2s 33us/step - loss: 0.3126 - acc: 0.8769 - val_loss: 0.8523 - val_acc: 0.7635\n",
      "Epoch 86/100\n",
      "49502/49502 [==============================] - 2s 33us/step - loss: 0.3113 - acc: 0.8801 - val_loss: 0.8787 - val_acc: 0.7740\n",
      "Epoch 87/100\n",
      "49502/49502 [==============================] - 2s 33us/step - loss: 0.3012 - acc: 0.8825 - val_loss: 0.9179 - val_acc: 0.7591\n",
      "Epoch 88/100\n",
      "49502/49502 [==============================] - 2s 33us/step - loss: 0.3084 - acc: 0.8812 - val_loss: 0.8355 - val_acc: 0.7871\n",
      "Epoch 89/100\n",
      "49502/49502 [==============================] - 2s 33us/step - loss: 0.3016 - acc: 0.8839 - val_loss: 0.8472 - val_acc: 0.7851\n",
      "Epoch 90/100\n",
      "49502/49502 [==============================] - 2s 33us/step - loss: 0.2961 - acc: 0.8877 - val_loss: 0.8988 - val_acc: 0.7752\n",
      "Epoch 91/100\n",
      "49502/49502 [==============================] - 2s 32us/step - loss: 0.2952 - acc: 0.8847 - val_loss: 0.9100 - val_acc: 0.7870\n",
      "Epoch 92/100\n",
      "49502/49502 [==============================] - 2s 34us/step - loss: 0.2921 - acc: 0.8887 - val_loss: 0.8666 - val_acc: 0.7852\n",
      "Epoch 93/100\n",
      "49502/49502 [==============================] - 2s 33us/step - loss: 0.2843 - acc: 0.8908 - val_loss: 0.9673 - val_acc: 0.7775\n",
      "Epoch 94/100\n",
      "49502/49502 [==============================] - 2s 32us/step - loss: 0.2879 - acc: 0.8896 - val_loss: 0.9813 - val_acc: 0.7839\n",
      "Epoch 95/100\n",
      "49502/49502 [==============================] - 2s 34us/step - loss: 0.2788 - acc: 0.8916 - val_loss: 0.9097 - val_acc: 0.7860\n",
      "Epoch 96/100\n",
      "49502/49502 [==============================] - 2s 32us/step - loss: 0.2809 - acc: 0.8930 - val_loss: 0.9314 - val_acc: 0.7856\n",
      "Epoch 97/100\n",
      "49502/49502 [==============================] - 2s 33us/step - loss: 0.2723 - acc: 0.8956 - val_loss: 1.0083 - val_acc: 0.7759\n",
      "Epoch 98/100\n",
      "49502/49502 [==============================] - 2s 32us/step - loss: 0.2729 - acc: 0.8956 - val_loss: 0.9691 - val_acc: 0.7847\n",
      "Epoch 99/100\n",
      "49502/49502 [==============================] - 2s 33us/step - loss: 0.2680 - acc: 0.8967 - val_loss: 0.9637 - val_acc: 0.7376\n",
      "Epoch 100/100\n",
      "49502/49502 [==============================] - 2s 32us/step - loss: 0.2624 - acc: 0.8979 - val_loss: 0.9244 - val_acc: 0.7877\n"
     ]
    }
   ],
   "source": [
    "classifier = classifier()\n",
    "history = classifier.fit(X_train, y_train, validation_data=(X_test,y_test), epochs=100, batch_size=1000)"
   ]
  },
  {
   "cell_type": "markdown",
   "metadata": {},
   "source": [
    "Validated loss has exploded faster than a mentos dropped in coke, let's take a look."
   ]
  },
  {
   "cell_type": "code",
   "execution_count": 9,
   "metadata": {},
   "outputs": [
    {
     "data": {
      "image/png": "[encoded data removed]",
      "text/plain": [
       "<matplotlib.figure.Figure at 0x1c0ea048f28>"
      ]
     },
     "metadata": {},
     "output_type": "display_data"
    }
   ],
   "source": [
    "%matplotlib inline\n",
    "import matplotlib.pyplot as plt\n",
    "import seaborn as sns\n",
    "\n",
    "def plots(acc, val_acc, loss, val_loss):\n",
    "    fig, (ax1, ax2) = plt.subplots(ncols=2, sharey=True)\n",
    "\n",
    "    # plot accuracy\n",
    "    ax1.plot(acc, label='Training')\n",
    "    if val_acc is not None:\n",
    "        ax1.plot(val_acc, label='Validation')\n",
    "\n",
    "    ax1.set_xlabel('Epoch')\n",
    "    ax1.set_title('Model Accuracy')\n",
    "    ax1.legend(loc='upper left')\n",
    "    ax1.set_ylim([0,1.2])\n",
    "\n",
    "    # plot loss\n",
    "    ax2.plot(loss, label='Training')\n",
    "    if val_loss is not None:\n",
    "        ax2.plot(val_loss, label='Validation')\n",
    "\n",
    "    ax2.set_xlabel('Epoch')\n",
    "    ax2.set_title('Model Loss')\n",
    "    ax2.legend(loc='upper right')\n",
    "    ax2.set_ylim([0,1.2])\n",
    "\n",
    "    sns.despine()\n",
    "    sns.set_style(\"white\")\n",
    "\n",
    "\n",
    "    plt.show()\n",
    "\n",
    "plots(history.history[\"acc\"],history.history['val_acc'],history.history[\"loss\"],history.history['val_loss'])"
   ]
  },
  {
   "cell_type": "markdown",
   "metadata": {},
   "source": [
    "The classifier appears to be overfitting the training set around the 30-40th epoch, where the validation loss becomes pretty violent. Lets add an early-stop and re-fit."
   ]
  },
  {
   "cell_type": "code",
   "execution_count": 13,
   "metadata": {},
   "outputs": [],
   "source": [
    "def classifier():\n",
    "    '''initialise the same classifier as before'''\n",
    "    # initialising the ANN\n",
    "    classifier = Sequential()\n",
    "    # input and hidden layers\n",
    "    classifier.add(Dense(units = 200, kernel_initializer = 'uniform', activation = 'relu', input_dim = 93))\n",
    "    classifier.add(Dense(units = 175, kernel_initializer = 'uniform', activation = 'relu'))\n",
    "    classifier.add(Dense(units = 150, kernel_initializer = 'uniform', activation = 'relu'))\n",
    "    classifier.add(Dense(units = 125, kernel_initializer = 'uniform', activation = 'relu'))\n",
    "    classifier.add(Dense(units = 100, kernel_initializer = 'uniform', activation = 'relu'))\n",
    "    classifier.add(Dense(units = 75, kernel_initializer = 'uniform', activation = 'relu'))\n",
    "    classifier.add(Dense(units = 50, kernel_initializer = 'uniform', activation = 'relu'))\n",
    "    classifier.add(Dense(units = 25, kernel_initializer = 'uniform', activation = 'relu'))\n",
    "    # output layer\n",
    "    classifier.add(Dense(units = 9, kernel_initializer = 'uniform', activation = 'softmax'))\n",
    "    # compile network\n",
    "    classifier.compile(optimizer = 'rmsprop', loss = 'sparse_categorical_crossentropy', metrics = ['accuracy'])\n",
    "    return classifier"
   ]
  },
  {
   "cell_type": "code",
   "execution_count": 21,
   "metadata": {},
   "outputs": [
    {
     "name": "stdout",
     "output_type": "stream",
     "text": [
      "Train on 49502 samples, validate on 12376 samples\n",
      "Epoch 1/100\n",
      "49502/49502 [==============================] - 2s 35us/step - loss: 1.7782 - acc: 0.2329 - val_loss: 1.6279 - val_acc: 0.2266\n",
      "Epoch 2/100\n",
      "49502/49502 [==============================] - 1s 23us/step - loss: 1.5741 - acc: 0.2593 - val_loss: 1.5500 - val_acc: 0.2509\n",
      "Epoch 3/100\n",
      "49502/49502 [==============================] - 1s 23us/step - loss: 1.3509 - acc: 0.4244 - val_loss: 1.1713 - val_acc: 0.6384\n",
      "Epoch 4/100\n",
      "49502/49502 [==============================] - 1s 24us/step - loss: 1.0477 - acc: 0.6350 - val_loss: 1.0727 - val_acc: 0.6133\n",
      "Epoch 5/100\n",
      "49502/49502 [==============================] - 1s 25us/step - loss: 1.0416 - acc: 0.6306 - val_loss: 0.9118 - val_acc: 0.6644\n",
      "Epoch 6/100\n",
      "49502/49502 [==============================] - 1s 24us/step - loss: 0.9632 - acc: 0.6482 - val_loss: 0.8901 - val_acc: 0.6723\n",
      "Epoch 7/100\n",
      "49502/49502 [==============================] - 1s 24us/step - loss: 0.8600 - acc: 0.6712 - val_loss: 0.8798 - val_acc: 0.6889\n",
      "Epoch 8/100\n",
      "49502/49502 [==============================] - 1s 25us/step - loss: 0.9348 - acc: 0.6735 - val_loss: 1.1453 - val_acc: 0.5929\n",
      "Epoch 9/100\n",
      "49502/49502 [==============================] - 1s 24us/step - loss: 0.8307 - acc: 0.6971 - val_loss: 0.7939 - val_acc: 0.7150\n",
      "Epoch 10/100\n",
      "49502/49502 [==============================] - 1s 24us/step - loss: 0.8236 - acc: 0.6919 - val_loss: 0.7797 - val_acc: 0.7224\n",
      "Epoch 11/100\n",
      "49502/49502 [==============================] - 1s 24us/step - loss: 0.8721 - acc: 0.6950 - val_loss: 0.7554 - val_acc: 0.7222\n",
      "Epoch 12/100\n",
      "49502/49502 [==============================] - 1s 24us/step - loss: 0.8080 - acc: 0.7053 - val_loss: 0.7512 - val_acc: 0.7225\n",
      "Epoch 13/100\n",
      "49502/49502 [==============================] - 1s 24us/step - loss: 0.7605 - acc: 0.7072 - val_loss: 1.0617 - val_acc: 0.5709\n",
      "Epoch 14/100\n",
      "49502/49502 [==============================] - 1s 26us/step - loss: 0.8587 - acc: 0.6948 - val_loss: 0.7331 - val_acc: 0.7236\n",
      "Epoch 15/100\n",
      "49502/49502 [==============================] - 1s 25us/step - loss: 0.7691 - acc: 0.7068 - val_loss: 0.7742 - val_acc: 0.6524\n",
      "Epoch 16/100\n",
      "49502/49502 [==============================] - 1s 25us/step - loss: 0.7813 - acc: 0.7082 - val_loss: 0.7209 - val_acc: 0.7292\n",
      "Epoch 17/100\n",
      "49502/49502 [==============================] - 1s 25us/step - loss: 0.7072 - acc: 0.7223 - val_loss: 0.7101 - val_acc: 0.7260\n",
      "Epoch 18/100\n",
      "49502/49502 [==============================] - 1s 24us/step - loss: 0.7855 - acc: 0.7098 - val_loss: 0.7136 - val_acc: 0.7197\n",
      "Epoch 19/100\n",
      "49502/49502 [==============================] - 1s 24us/step - loss: 0.7486 - acc: 0.7193 - val_loss: 0.7216 - val_acc: 0.7017\n",
      "Epoch 20/100\n",
      "49502/49502 [==============================] - 1s 24us/step - loss: 0.7379 - acc: 0.7190 - val_loss: 0.7072 - val_acc: 0.7302\n",
      "Epoch 21/100\n",
      "49502/49502 [==============================] - 1s 23us/step - loss: 0.7392 - acc: 0.7153 - val_loss: 0.6939 - val_acc: 0.7346\n",
      "Epoch 22/100\n",
      "49502/49502 [==============================] - 1s 25us/step - loss: 0.7150 - acc: 0.7209 - val_loss: 0.7192 - val_acc: 0.7334\n",
      "Epoch 23/100\n",
      "49502/49502 [==============================] - 1s 24us/step - loss: 0.7070 - acc: 0.7260 - val_loss: 0.6975 - val_acc: 0.7378\n",
      "Epoch 24/100\n",
      "49502/49502 [==============================] - 1s 24us/step - loss: 0.6395 - acc: 0.7411 - val_loss: 0.6930 - val_acc: 0.7367\n",
      "Epoch 25/100\n",
      "49502/49502 [==============================] - 1s 24us/step - loss: 0.6930 - acc: 0.7307 - val_loss: 0.6888 - val_acc: 0.7425\n",
      "Epoch 26/100\n",
      "49502/49502 [==============================] - 1s 24us/step - loss: 0.6845 - acc: 0.7312 - val_loss: 0.7017 - val_acc: 0.7384\n",
      "Epoch 27/100\n",
      "49502/49502 [==============================] - 1s 25us/step - loss: 0.6240 - acc: 0.7441 - val_loss: 0.6842 - val_acc: 0.7441\n",
      "Epoch 28/100\n",
      "49502/49502 [==============================] - 1s 24us/step - loss: 0.6438 - acc: 0.7390 - val_loss: 1.0184 - val_acc: 0.6711\n",
      "Epoch 29/100\n",
      "49502/49502 [==============================] - 1s 24us/step - loss: 0.6202 - acc: 0.7471 - val_loss: 0.6837 - val_acc: 0.7375\n",
      "Epoch 30/100\n",
      "49502/49502 [==============================] - 1s 27us/step - loss: 0.6474 - acc: 0.7467 - val_loss: 0.6854 - val_acc: 0.7468\n",
      "Epoch 31/100\n",
      "49502/49502 [==============================] - 1s 26us/step - loss: 0.5833 - acc: 0.7610 - val_loss: 0.6948 - val_acc: 0.7265\n",
      "Epoch 32/100\n",
      "49502/49502 [==============================] - 1s 23us/step - loss: 0.6361 - acc: 0.7492 - val_loss: 0.7022 - val_acc: 0.7208\n",
      "Epoch 33/100\n",
      "49502/49502 [==============================] - 1s 24us/step - loss: 0.5951 - acc: 0.7519 - val_loss: 0.7089 - val_acc: 0.7322\n"
     ]
    }
   ],
   "source": [
    "from keras.callbacks import EarlyStopping\n",
    "\n",
    "classifier_es = classifier()\n",
    "early_stop = EarlyStopping(monitor='val_loss',\n",
    "                              min_delta=0,\n",
    "                              patience=4,\n",
    "                              verbose=0, mode='auto')\n",
    "\n",
    "history_es = classifier_es.fit(X_train, y_train, validation_data=(X_test,y_test), epochs=100, batch_size=1000, callbacks=[early_stop])"
   ]
  },
  {
   "cell_type": "code",
   "execution_count": 22,
   "metadata": {},
   "outputs": [
    {
     "data": {
      "image/png": "[encoded data removed]",
      "text/plain": [
       "<matplotlib.figure.Figure at 0x1c0f7778f98>"
      ]
     },
     "metadata": {},
     "output_type": "display_data"
    }
   ],
   "source": [
    "plots(history_es.history[\"acc\"],history_es.history['val_acc'],history_es.history[\"loss\"],history_es.history['val_loss'])"
   ]
  },
  {
   "cell_type": "markdown",
   "metadata": {},
   "source": [
    "So we have stopped where we expected, but the results fluctuate between 60% and 75% validated accuracy after serveral run throughs.\n",
    "\n",
    "There are also large, regular spikes in the validated loss. It could be overfitting due to the relu activation function, too many hidden layer nodes or possibly that there are a number of odd cases in the data.\n",
    "\n",
    "Finally, let's perform an alternative evaluation with 10-fold cross-validation."
   ]
  },
  {
   "cell_type": "code",
   "execution_count": 23,
   "metadata": {},
   "outputs": [
    {
     "name": "stdout",
     "output_type": "stream",
     "text": [
      "Wall time: 18min 37s\n",
      "Accuracy: 78.25% (0.74%)\n"
     ]
    }
   ],
   "source": [
    "from keras.wrappers.scikit_learn import KerasClassifier\n",
    "from sklearn.model_selection import KFold, cross_val_score\n",
    "\n",
    "# build estimator, making model compatible with sklearn modules\n",
    "estimator = KerasClassifier(build_fn=classifier, epochs=100, batch_size=1000, verbose=0)\n",
    "\n",
    "\n",
    "kfold = KFold(n_splits=10, shuffle=True, random_state=1)\n",
    "%time results = cross_val_score(estimator, X, y, cv=kfold, scoring='accuracy')\n",
    "print(\"Accuracy: %.2f%% (%.2f%%)\" % (results.mean()*100, results.std()*100))"
   ]
  },
  {
   "cell_type": "markdown",
   "metadata": {},
   "source": [
    "This run was computationally expensive, but thoroughly tests the model on different sets of unseen data. A stratified kfold might squeeze a little extra by balancing up the share of classes, but we already have a reasonable picture of performance.\n",
    "\n",
    "Next steps might be to experiment with the hidden layers and activation functions to achieve a more accurate and stable build."
   ]
  }
 ],
 "metadata": {
  "kernelspec": {
   "display_name": "Python 3",
   "language": "python",
   "name": "python3"
  },
  "language_info": {
   "codemirror_mode": {
    "name": "ipython",
    "version": 3
   },
   "file_extension": ".py",
   "mimetype": "text/x-python",
   "name": "python",
   "nbconvert_exporter": "python",
   "pygments_lexer": "ipython3",
   "version": "3.6.4"
  }
 },
 "nbformat": 4,
 "nbformat_minor": 2
}
